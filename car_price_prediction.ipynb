{
 "cells": [
  {
   "cell_type": "code",
   "execution_count": 5,
   "metadata": {},
   "outputs": [],
   "source": [
    "import pandas as pd\n",
    "from sklearn.model_selection import train_test_split\n",
    "from sklearn.linear_model import LinearRegression\n",
    "import pickle\n",
    "\n",
    "# Sample dataset\n",
    "data = {\n",
    "    'age': [1, 2, 3, 4, 5, 3, 4, 2],\n",
    "    'mileage': [10000, 20000, 30000, 40000, 50000, 15000, 25000, 22000],\n",
    "    'brand': ['Toyota', 'Toyota', 'Ford', 'Ford', 'BMW', 'Toyota', 'Ford', 'BMW'],\n",
    "    'model': ['Corolla', 'Camry', 'Focus', 'Mustang', 'X3', 'Corolla', 'Focus', 'X3'],\n",
    "    'fuel_type': ['Petrol', 'Petrol', 'Diesel', 'Diesel', 'Electric', 'Petrol', 'Diesel', 'Electric'],\n",
    "    'price': [20000, 18000, 15000, 12000, 35000, 21000, 16000, 34000]\n",
    "}\n",
    "\n",
    "df = pd.DataFrame(data)\n",
    "\n",
    "# One-hot encode categorical variables\n",
    "df = pd.get_dummies(df, columns=['brand', 'model', 'fuel_type'], drop_first=True)\n",
    "\n",
    "# Features and target\n",
    "X = df.drop('price', axis=1)\n",
    "y = df['price']\n",
    "\n",
    "# Train-test split\n",
    "X_train, X_test, y_train, y_test = train_test_split(X, y, test_size=0.2, random_state=42)\n",
    "\n",
    "# Train a linear regression model\n",
    "model = LinearRegression()\n",
    "model.fit(X_train, y_train)\n",
    "\n",
    "# Save the model to a pickle file\n",
    "with open('car_price_model.pkl', 'wb') as file:\n",
    "    pickle.dump(model, file)\n",
    "\n",
    "# Save the feature names\n",
    "with open('feature_names.pkl', 'wb') as file:\n",
    "    pickle.dump(X_train.columns.tolist(), file)\n"
   ]
  }
 ],
 "metadata": {
  "kernelspec": {
   "display_name": "Python 3",
   "language": "python",
   "name": "python3"
  },
  "language_info": {
   "codemirror_mode": {
    "name": "ipython",
    "version": 3
   },
   "file_extension": ".py",
   "mimetype": "text/x-python",
   "name": "python",
   "nbconvert_exporter": "python",
   "pygments_lexer": "ipython3",
   "version": "3.11.5"
  }
 },
 "nbformat": 4,
 "nbformat_minor": 2
}
